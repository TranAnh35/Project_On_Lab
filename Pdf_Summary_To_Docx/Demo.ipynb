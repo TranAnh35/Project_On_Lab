{
 "cells": [
  {
   "cell_type": "code",
   "execution_count": 2,
   "metadata": {},
   "outputs": [
    {
     "name": "stdout",
     "output_type": "stream",
     "text": [
      "Đang trích xuất văn bản từ PDF...\n",
      "Đang tóm tắt văn bản...\n"
     ]
    },
    {
     "name": "stderr",
     "output_type": "stream",
     "text": [
      "Device set to use cuda:0\n",
      "You seem to be using the pipelines sequentially on GPU. In order to maximize efficiency please use a dataset\n"
     ]
    },
    {
     "name": "stdout",
     "output_type": "stream",
     "text": [
      "Đang lưu tóm tắt vào file DOCX...\n",
      "Tóm tắt hoàn thành! File DOCX đã lưu tại: output_summary.docx\n"
     ]
    }
   ],
   "source": [
    "from PyPDF2 import PdfReader\n",
    "from transformers import pipeline\n",
    "from docx import Document\n",
    "\n",
    "# 1. Trích xuất văn bản từ file PDF\n",
    "def extract_text_from_pdf(pdf_path):\n",
    "    reader = PdfReader(pdf_path)\n",
    "    text = \"\"\n",
    "    for page in reader.pages:\n",
    "        text += page.extract_text()\n",
    "    return text\n",
    "\n",
    "# 2. Tóm tắt văn bản bằng mô hình Transformers\n",
    "def summarize_text(text, model_name=\"facebook/bart-large-cnn\"):\n",
    "    summarizer = pipeline(\"summarization\", model=model_name)\n",
    "    max_input_length = 1024  # BERTSUM/PEGASUS thường giới hạn độ dài input\n",
    "    summaries = []\n",
    "    \n",
    "    # Chia văn bản dài thành đoạn nhỏ để tóm tắt\n",
    "    for i in range(0, len(text), max_input_length):\n",
    "        chunk = text[i:i + max_input_length]\n",
    "        summary = summarizer(chunk, max_length=130, min_length=30, do_sample=False)\n",
    "        summaries.append(summary[0]['summary_text'])\n",
    "    \n",
    "    return \"\\n\".join(summaries)\n",
    "\n",
    "# 3. Lưu nội dung tóm tắt vào file DOCX\n",
    "def save_to_docx(summary, output_path):\n",
    "    doc = Document()\n",
    "    doc.add_heading(\"Summary of the PDF\", level=1)\n",
    "    doc.add_paragraph(summary)\n",
    "    doc.save(output_path)\n",
    "\n",
    "# --- Main Function ---\n",
    "if __name__ == \"__main__\":\n",
    "    pdf_path = \"PDF/0e21835a42a6df2405496f62647058ff855743c1.pdf\"  # Đường dẫn tới file PDF của bạn\n",
    "    output_docx = \"output_summary.docx\"  # Tên file DOCX xuất ra\n",
    "    \n",
    "    print(\"Đang trích xuất văn bản từ PDF...\")\n",
    "    pdf_text = extract_text_from_pdf(pdf_path)\n",
    "    \n",
    "    print(\"Đang tóm tắt văn bản...\")\n",
    "    summarized_text = summarize_text(pdf_text)\n",
    "    \n",
    "    print(\"Đang lưu tóm tắt vào file DOCX...\")\n",
    "    save_to_docx(summarized_text, output_docx)\n",
    "    \n",
    "    print(f\"Tóm tắt hoàn thành! File DOCX đã lưu tại: {output_docx}\")\n"
   ]
  },
  {
   "cell_type": "code",
   "execution_count": null,
   "metadata": {},
   "outputs": [],
   "source": [
    "import google.generativeai as genai\n",
    "import httpx\n",
    "import base64\n",
    "\n",
    "model = genai.GenerativeModel(\"gemini-1.5-flash\")\n",
    "doc_url = \"https://discovery.ucl.ac.uk/id/eprint/10089234/1/343019_3_art_0_py4t4l_convrt.pdf\"  # Replace with the actual URL of your PDF\n",
    "\n",
    "# Retrieve and encode the PDF\n",
    "doc_data = base64.standard_b64encode(httpx.get(doc_url).content).decode(\"utf-8\")\n",
    "\n",
    "prompt = \"Summarize this document\"\n",
    "\n",
    "response = model.generate_content([{'mime_type':'application/pdf', 'data': doc_data}, prompt])\n",
    "print(response.text)"
   ]
  }
 ],
 "metadata": {
  "kernelspec": {
   "display_name": "On_Lab",
   "language": "python",
   "name": "python3"
  },
  "language_info": {
   "codemirror_mode": {
    "name": "ipython",
    "version": 3
   },
   "file_extension": ".py",
   "mimetype": "text/x-python",
   "name": "python",
   "nbconvert_exporter": "python",
   "pygments_lexer": "ipython3",
   "version": "3.12.8"
  }
 },
 "nbformat": 4,
 "nbformat_minor": 2
}
